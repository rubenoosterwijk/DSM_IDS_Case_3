{
 "cells": [
  {
   "cell_type": "markdown",
   "metadata": {},
   "source": [
    "Waar gaan we op focussen:"
   ]
  },
  {
   "cell_type": "code",
   "execution_count": 1,
   "metadata": {},
   "outputs": [
    {
     "name": "stdout",
     "output_type": "stream",
     "text": [
      "Collecting streamlit\n",
      "  Downloading streamlit-0.78.0-py2.py3-none-any.whl (7.5 MB)\n",
      "Collecting blinker\n",
      "  Downloading blinker-1.4.tar.gz (111 kB)\n",
      "Requirement already satisfied: packaging in c:\\users\\ruben\\anaconda3\\lib\\site-packages (from streamlit) (20.4)\n",
      "Requirement already satisfied: pillow>=6.2.0 in c:\\users\\ruben\\anaconda3\\lib\\site-packages (from streamlit) (8.0.1)\n",
      "Requirement already satisfied: tornado>=5.0 in c:\\users\\ruben\\anaconda3\\lib\\site-packages (from streamlit) (6.0.4)\n",
      "Requirement already satisfied: requests in c:\\users\\ruben\\anaconda3\\lib\\site-packages (from streamlit) (2.24.0)\n",
      "Requirement already satisfied: numpy in c:\\users\\ruben\\anaconda3\\lib\\site-packages (from streamlit) (1.19.2)\n",
      "Collecting pydeck>=0.1.dev5\n",
      "  Downloading pydeck-0.6.1-py2.py3-none-any.whl (4.6 MB)\n",
      "Collecting validators\n",
      "  Downloading validators-0.18.2-py3-none-any.whl (19 kB)\n",
      "Collecting pyarrow; python_version < \"3.9\"\n",
      "  Downloading pyarrow-3.0.0-cp38-cp38-win_amd64.whl (12.7 MB)\n",
      "Collecting protobuf!=3.11,>=3.6.0\n",
      "  Downloading protobuf-3.15.5-py2.py3-none-any.whl (173 kB)\n",
      "Collecting base58\n",
      "  Downloading base58-2.1.0-py3-none-any.whl (5.6 kB)\n",
      "Requirement already satisfied: watchdog; platform_system != \"Darwin\" in c:\\users\\ruben\\anaconda3\\lib\\site-packages (from streamlit) (0.10.3)\n",
      "Collecting tzlocal\n",
      "  Downloading tzlocal-2.1-py2.py3-none-any.whl (16 kB)\n",
      "Collecting astor\n",
      "  Downloading astor-0.8.1-py2.py3-none-any.whl (27 kB)\n",
      "Requirement already satisfied: toml in c:\\users\\ruben\\anaconda3\\lib\\site-packages (from streamlit) (0.10.1)\n",
      "Collecting altair>=3.2.0\n",
      "  Downloading altair-4.1.0-py3-none-any.whl (727 kB)\n",
      "Requirement already satisfied: click>=7.0 in c:\\users\\ruben\\anaconda3\\lib\\site-packages (from streamlit) (7.1.2)\n",
      "Requirement already satisfied: pandas>=0.21.0 in c:\\users\\ruben\\anaconda3\\lib\\site-packages (from streamlit) (1.1.3)\n",
      "Collecting gitpython\n",
      "  Downloading GitPython-3.1.14-py3-none-any.whl (159 kB)\n",
      "Requirement already satisfied: python-dateutil in c:\\users\\ruben\\anaconda3\\lib\\site-packages (from streamlit) (2.8.1)\n",
      "Collecting cachetools>=4.0\n",
      "  Downloading cachetools-4.2.1-py3-none-any.whl (12 kB)\n",
      "Requirement already satisfied: six in c:\\users\\ruben\\anaconda3\\lib\\site-packages (from packaging->streamlit) (1.15.0)\n",
      "Requirement already satisfied: pyparsing>=2.0.2 in c:\\users\\ruben\\anaconda3\\lib\\site-packages (from packaging->streamlit) (2.4.7)\n",
      "Requirement already satisfied: certifi>=2017.4.17 in c:\\users\\ruben\\anaconda3\\lib\\site-packages (from requests->streamlit) (2020.6.20)\n",
      "Requirement already satisfied: urllib3!=1.25.0,!=1.25.1,<1.26,>=1.21.1 in c:\\users\\ruben\\anaconda3\\lib\\site-packages (from requests->streamlit) (1.25.11)\n",
      "Requirement already satisfied: chardet<4,>=3.0.2 in c:\\users\\ruben\\anaconda3\\lib\\site-packages (from requests->streamlit) (3.0.4)\n",
      "Requirement already satisfied: idna<3,>=2.5 in c:\\users\\ruben\\anaconda3\\lib\\site-packages (from requests->streamlit) (2.10)\n",
      "Requirement already satisfied: ipywidgets>=7.0.0 in c:\\users\\ruben\\anaconda3\\lib\\site-packages (from pydeck>=0.1.dev5->streamlit) (7.5.1)\n",
      "Requirement already satisfied: traitlets>=4.3.2 in c:\\users\\ruben\\anaconda3\\lib\\site-packages (from pydeck>=0.1.dev5->streamlit) (5.0.5)\n",
      "Requirement already satisfied: jinja2>=2.10.1 in c:\\users\\ruben\\anaconda3\\lib\\site-packages (from pydeck>=0.1.dev5->streamlit) (2.11.2)\n",
      "Requirement already satisfied: ipykernel>=5.1.2; python_version >= \"3.4\" in c:\\users\\ruben\\anaconda3\\lib\\site-packages (from pydeck>=0.1.dev5->streamlit) (5.3.4)\n",
      "Requirement already satisfied: decorator>=3.4.0 in c:\\users\\ruben\\anaconda3\\lib\\site-packages (from validators->streamlit) (4.4.2)\n",
      "Requirement already satisfied: pathtools>=0.1.1 in c:\\users\\ruben\\anaconda3\\lib\\site-packages (from watchdog; platform_system != \"Darwin\"->streamlit) (0.1.2)\n",
      "Requirement already satisfied: pytz in c:\\users\\ruben\\anaconda3\\lib\\site-packages (from tzlocal->streamlit) (2020.1)\n",
      "Requirement already satisfied: toolz in c:\\users\\ruben\\anaconda3\\lib\\site-packages (from altair>=3.2.0->streamlit) (0.11.1)\n",
      "Requirement already satisfied: jsonschema in c:\\users\\ruben\\anaconda3\\lib\\site-packages (from altair>=3.2.0->streamlit) (3.2.0)\n",
      "Requirement already satisfied: entrypoints in c:\\users\\ruben\\anaconda3\\lib\\site-packages (from altair>=3.2.0->streamlit) (0.3)\n",
      "Collecting gitdb<5,>=4.0.1\n",
      "  Downloading gitdb-4.0.5-py3-none-any.whl (63 kB)\n",
      "Requirement already satisfied: widgetsnbextension~=3.5.0 in c:\\users\\ruben\\anaconda3\\lib\\site-packages (from ipywidgets>=7.0.0->pydeck>=0.1.dev5->streamlit) (3.5.1)\n",
      "Requirement already satisfied: nbformat>=4.2.0 in c:\\users\\ruben\\anaconda3\\lib\\site-packages (from ipywidgets>=7.0.0->pydeck>=0.1.dev5->streamlit) (5.0.8)\n",
      "Requirement already satisfied: ipython>=4.0.0; python_version >= \"3.3\" in c:\\users\\ruben\\anaconda3\\lib\\site-packages (from ipywidgets>=7.0.0->pydeck>=0.1.dev5->streamlit) (7.19.0)\n",
      "Requirement already satisfied: ipython-genutils in c:\\users\\ruben\\anaconda3\\lib\\site-packages (from traitlets>=4.3.2->pydeck>=0.1.dev5->streamlit) (0.2.0)\n",
      "Requirement already satisfied: MarkupSafe>=0.23 in c:\\users\\ruben\\anaconda3\\lib\\site-packages (from jinja2>=2.10.1->pydeck>=0.1.dev5->streamlit) (1.1.1)\n",
      "Requirement already satisfied: jupyter-client in c:\\users\\ruben\\anaconda3\\lib\\site-packages (from ipykernel>=5.1.2; python_version >= \"3.4\"->pydeck>=0.1.dev5->streamlit) (6.1.7)\n",
      "Requirement already satisfied: pyrsistent>=0.14.0 in c:\\users\\ruben\\anaconda3\\lib\\site-packages (from jsonschema->altair>=3.2.0->streamlit) (0.17.3)\n",
      "Requirement already satisfied: setuptools in c:\\users\\ruben\\anaconda3\\lib\\site-packages (from jsonschema->altair>=3.2.0->streamlit) (50.3.1.post20201107)\n",
      "Requirement already satisfied: attrs>=17.4.0 in c:\\users\\ruben\\anaconda3\\lib\\site-packages (from jsonschema->altair>=3.2.0->streamlit) (20.3.0)\n",
      "Collecting smmap<4,>=3.0.1\n",
      "  Downloading smmap-3.0.5-py2.py3-none-any.whl (25 kB)\n",
      "Requirement already satisfied: notebook>=4.4.1 in c:\\users\\ruben\\anaconda3\\lib\\site-packages (from widgetsnbextension~=3.5.0->ipywidgets>=7.0.0->pydeck>=0.1.dev5->streamlit) (6.1.4)\n",
      "Requirement already satisfied: jupyter-core in c:\\users\\ruben\\anaconda3\\lib\\site-packages (from nbformat>=4.2.0->ipywidgets>=7.0.0->pydeck>=0.1.dev5->streamlit) (4.6.3)\n",
      "Requirement already satisfied: colorama; sys_platform == \"win32\" in c:\\users\\ruben\\anaconda3\\lib\\site-packages (from ipython>=4.0.0; python_version >= \"3.3\"->ipywidgets>=7.0.0->pydeck>=0.1.dev5->streamlit) (0.4.4)\n",
      "Requirement already satisfied: backcall in c:\\users\\ruben\\anaconda3\\lib\\site-packages (from ipython>=4.0.0; python_version >= \"3.3\"->ipywidgets>=7.0.0->pydeck>=0.1.dev5->streamlit) (0.2.0)\n",
      "Requirement already satisfied: pickleshare in c:\\users\\ruben\\anaconda3\\lib\\site-packages (from ipython>=4.0.0; python_version >= \"3.3\"->ipywidgets>=7.0.0->pydeck>=0.1.dev5->streamlit) (0.7.5)\n",
      "Requirement already satisfied: jedi>=0.10 in c:\\users\\ruben\\anaconda3\\lib\\site-packages (from ipython>=4.0.0; python_version >= \"3.3\"->ipywidgets>=7.0.0->pydeck>=0.1.dev5->streamlit) (0.17.1)\n",
      "Requirement already satisfied: pygments in c:\\users\\ruben\\anaconda3\\lib\\site-packages (from ipython>=4.0.0; python_version >= \"3.3\"->ipywidgets>=7.0.0->pydeck>=0.1.dev5->streamlit) (2.7.2)\n",
      "Requirement already satisfied: prompt-toolkit!=3.0.0,!=3.0.1,<3.1.0,>=2.0.0 in c:\\users\\ruben\\anaconda3\\lib\\site-packages (from ipython>=4.0.0; python_version >= \"3.3\"->ipywidgets>=7.0.0->pydeck>=0.1.dev5->streamlit) (3.0.8)\n",
      "Requirement already satisfied: pyzmq>=13 in c:\\users\\ruben\\anaconda3\\lib\\site-packages (from jupyter-client->ipykernel>=5.1.2; python_version >= \"3.4\"->pydeck>=0.1.dev5->streamlit) (19.0.2)\n",
      "Requirement already satisfied: nbconvert in c:\\users\\ruben\\anaconda3\\lib\\site-packages (from notebook>=4.4.1->widgetsnbextension~=3.5.0->ipywidgets>=7.0.0->pydeck>=0.1.dev5->streamlit) (6.0.7)\n",
      "Requirement already satisfied: prometheus-client in c:\\users\\ruben\\anaconda3\\lib\\site-packages (from notebook>=4.4.1->widgetsnbextension~=3.5.0->ipywidgets>=7.0.0->pydeck>=0.1.dev5->streamlit) (0.8.0)\n",
      "Requirement already satisfied: Send2Trash in c:\\users\\ruben\\anaconda3\\lib\\site-packages (from notebook>=4.4.1->widgetsnbextension~=3.5.0->ipywidgets>=7.0.0->pydeck>=0.1.dev5->streamlit) (1.5.0)\n",
      "Requirement already satisfied: argon2-cffi in c:\\users\\ruben\\anaconda3\\lib\\site-packages (from notebook>=4.4.1->widgetsnbextension~=3.5.0->ipywidgets>=7.0.0->pydeck>=0.1.dev5->streamlit) (20.1.0)\n",
      "Requirement already satisfied: terminado>=0.8.3 in c:\\users\\ruben\\anaconda3\\lib\\site-packages (from notebook>=4.4.1->widgetsnbextension~=3.5.0->ipywidgets>=7.0.0->pydeck>=0.1.dev5->streamlit) (0.9.1)\n",
      "Requirement already satisfied: pywin32>=1.0; sys_platform == \"win32\" in c:\\users\\ruben\\anaconda3\\lib\\site-packages (from jupyter-core->nbformat>=4.2.0->ipywidgets>=7.0.0->pydeck>=0.1.dev5->streamlit) (227)\n",
      "Requirement already satisfied: parso<0.8.0,>=0.7.0 in c:\\users\\ruben\\anaconda3\\lib\\site-packages (from jedi>=0.10->ipython>=4.0.0; python_version >= \"3.3\"->ipywidgets>=7.0.0->pydeck>=0.1.dev5->streamlit) (0.7.0)\n",
      "Requirement already satisfied: wcwidth in c:\\users\\ruben\\anaconda3\\lib\\site-packages (from prompt-toolkit!=3.0.0,!=3.0.1,<3.1.0,>=2.0.0->ipython>=4.0.0; python_version >= \"3.3\"->ipywidgets>=7.0.0->pydeck>=0.1.dev5->streamlit) (0.2.5)\n",
      "Requirement already satisfied: nbclient<0.6.0,>=0.5.0 in c:\\users\\ruben\\anaconda3\\lib\\site-packages (from nbconvert->notebook>=4.4.1->widgetsnbextension~=3.5.0->ipywidgets>=7.0.0->pydeck>=0.1.dev5->streamlit) (0.5.1)\n",
      "Requirement already satisfied: testpath in c:\\users\\ruben\\anaconda3\\lib\\site-packages (from nbconvert->notebook>=4.4.1->widgetsnbextension~=3.5.0->ipywidgets>=7.0.0->pydeck>=0.1.dev5->streamlit) (0.4.4)\n",
      "Requirement already satisfied: bleach in c:\\users\\ruben\\anaconda3\\lib\\site-packages (from nbconvert->notebook>=4.4.1->widgetsnbextension~=3.5.0->ipywidgets>=7.0.0->pydeck>=0.1.dev5->streamlit) (3.2.1)\n",
      "Requirement already satisfied: defusedxml in c:\\users\\ruben\\anaconda3\\lib\\site-packages (from nbconvert->notebook>=4.4.1->widgetsnbextension~=3.5.0->ipywidgets>=7.0.0->pydeck>=0.1.dev5->streamlit) (0.6.0)\n",
      "Requirement already satisfied: pandocfilters>=1.4.1 in c:\\users\\ruben\\anaconda3\\lib\\site-packages (from nbconvert->notebook>=4.4.1->widgetsnbextension~=3.5.0->ipywidgets>=7.0.0->pydeck>=0.1.dev5->streamlit) (1.4.3)\n",
      "Requirement already satisfied: jupyterlab-pygments in c:\\users\\ruben\\anaconda3\\lib\\site-packages (from nbconvert->notebook>=4.4.1->widgetsnbextension~=3.5.0->ipywidgets>=7.0.0->pydeck>=0.1.dev5->streamlit) (0.1.2)\n",
      "Requirement already satisfied: mistune<2,>=0.8.1 in c:\\users\\ruben\\anaconda3\\lib\\site-packages (from nbconvert->notebook>=4.4.1->widgetsnbextension~=3.5.0->ipywidgets>=7.0.0->pydeck>=0.1.dev5->streamlit) (0.8.4)\n",
      "Requirement already satisfied: cffi>=1.0.0 in c:\\users\\ruben\\anaconda3\\lib\\site-packages (from argon2-cffi->notebook>=4.4.1->widgetsnbextension~=3.5.0->ipywidgets>=7.0.0->pydeck>=0.1.dev5->streamlit) (1.14.3)\n",
      "Requirement already satisfied: pywinpty>=0.5 in c:\\users\\ruben\\anaconda3\\lib\\site-packages (from terminado>=0.8.3->notebook>=4.4.1->widgetsnbextension~=3.5.0->ipywidgets>=7.0.0->pydeck>=0.1.dev5->streamlit) (0.5.7)\n",
      "Requirement already satisfied: nest-asyncio in c:\\users\\ruben\\anaconda3\\lib\\site-packages (from nbclient<0.6.0,>=0.5.0->nbconvert->notebook>=4.4.1->widgetsnbextension~=3.5.0->ipywidgets>=7.0.0->pydeck>=0.1.dev5->streamlit) (1.4.2)\n",
      "Requirement already satisfied: async-generator in c:\\users\\ruben\\anaconda3\\lib\\site-packages (from nbclient<0.6.0,>=0.5.0->nbconvert->notebook>=4.4.1->widgetsnbextension~=3.5.0->ipywidgets>=7.0.0->pydeck>=0.1.dev5->streamlit) (1.10)\n",
      "Requirement already satisfied: webencodings in c:\\users\\ruben\\anaconda3\\lib\\site-packages (from bleach->nbconvert->notebook>=4.4.1->widgetsnbextension~=3.5.0->ipywidgets>=7.0.0->pydeck>=0.1.dev5->streamlit) (0.5.1)\n",
      "Requirement already satisfied: pycparser in c:\\users\\ruben\\anaconda3\\lib\\site-packages (from cffi>=1.0.0->argon2-cffi->notebook>=4.4.1->widgetsnbextension~=3.5.0->ipywidgets>=7.0.0->pydeck>=0.1.dev5->streamlit) (2.20)\n",
      "Building wheels for collected packages: blinker\n"
     ]
    },
    {
     "name": "stdout",
     "output_type": "stream",
     "text": [
      "  Building wheel for blinker (setup.py): started\n",
      "  Building wheel for blinker (setup.py): finished with status 'done'\n",
      "  Created wheel for blinker: filename=blinker-1.4-py3-none-any.whl size=13454 sha256=54e96d49ca1c38c3ea117d5f7017203faa1e3009c5004cdf7a216ffbffab2a97\n",
      "  Stored in directory: c:\\users\\ruben\\appdata\\local\\pip\\cache\\wheels\\b7\\a5\\68\\fe632054a5eadd531c7a49d740c50eb6adfbeca822b4eab8d4\n",
      "Successfully built blinker\n",
      "Installing collected packages: blinker, pydeck, validators, pyarrow, protobuf, base58, tzlocal, astor, altair, smmap, gitdb, gitpython, cachetools, streamlit\n",
      "Successfully installed altair-4.1.0 astor-0.8.1 base58-2.1.0 blinker-1.4 cachetools-4.2.1 gitdb-4.0.5 gitpython-3.1.14 protobuf-3.15.5 pyarrow-3.0.0 pydeck-0.6.1 smmap-3.0.5 streamlit-0.78.0 tzlocal-2.1 validators-0.18.2\n"
     ]
    }
   ],
   "source": [
    "!pip install streamlit"
   ]
  },
  {
   "cell_type": "code",
   "execution_count": null,
   "metadata": {},
   "outputs": [],
   "source": [
    "\n",
    "!streamlit hello"
   ]
  },
  {
   "cell_type": "code",
   "execution_count": 3,
   "metadata": {},
   "outputs": [],
   "source": [
    "import pandas as pd\n",
    "\n",
    "# NO2 = pd.read_csv('NO2_JAREN.csv', sep=\";\", decimal=',')"
   ]
  },
  {
   "cell_type": "code",
   "execution_count": 7,
   "outputs": [
    {
     "data": {
      "text/plain": "       DataProvider  OperatorInfo  UsageType  StatusType  SubmissionStatus  \\\ncount           0.0           0.0        0.0         0.0               0.0   \nmean            NaN           NaN        NaN         NaN               NaN   \nstd             NaN           NaN        NaN         NaN               NaN   \nmin             NaN           NaN        NaN         NaN               NaN   \n25%             NaN           NaN        NaN         NaN               NaN   \n50%             NaN           NaN        NaN         NaN               NaN   \n75%             NaN           NaN        NaN         NaN               NaN   \nmax             NaN           NaN        NaN         NaN               NaN   \n\n       UserComments  PercentageSimilarity  MediaItems             ID  \\\ncount           0.0                   0.0         0.0     250.000000   \nmean            NaN                   NaN         NaN  129228.608000   \nstd             NaN                   NaN         NaN   26768.974371   \nmin             NaN                   NaN         NaN   88878.000000   \n25%             NaN                   NaN         NaN  104584.250000   \n50%             NaN                   NaN         NaN  130752.500000   \n75%             NaN                   NaN         NaN  149516.250000   \nmax             NaN                   NaN         NaN  173970.000000   \n\n       ParentChargePointID  ...  Connections/3/StatusType  \\\ncount                  0.0  ...                       0.0   \nmean                   NaN  ...                       NaN   \nstd                    NaN  ...                       NaN   \nmin                    NaN  ...                       NaN   \n25%                    NaN  ...                       NaN   \n50%                    NaN  ...                       NaN   \n75%                    NaN  ...                       NaN   \nmax                    NaN  ...                       NaN   \n\n       Connections/3/LevelID  Connections/3/Level  Connections/3/Amps  \\\ncount              24.000000                  0.0                20.0   \nmean                2.958333                  NaN                63.0   \nstd                 0.204124                  NaN                 0.0   \nmin                 2.000000                  NaN                63.0   \n25%                 3.000000                  NaN                63.0   \n50%                 3.000000                  NaN                63.0   \n75%                 3.000000                  NaN                63.0   \nmax                 3.000000                  NaN                63.0   \n\n       Connections/3/Voltage  Connections/3/PowerKW  \\\ncount                   20.0              24.000000   \nmean                   400.0              54.083333   \nstd                      0.0              37.284939   \nmin                    400.0              38.000000   \n25%                    400.0              43.000000   \n50%                    400.0              43.000000   \n75%                    400.0              43.000000   \nmax                    400.0             175.000000   \n\n       Connections/3/CurrentTypeID  Connections/3/CurrentType  \\\ncount                     24.00000                        0.0   \nmean                      21.25000                        NaN   \nstd                        3.37832                        NaN   \nmin                       20.00000                        NaN   \n25%                       20.00000                        NaN   \n50%                       20.00000                        NaN   \n75%                       20.00000                        NaN   \nmax                       30.00000                        NaN   \n\n       Connections/3/Quantity  Connections/3/Comments  \ncount               24.000000                     0.0  \nmean                 1.625000                     NaN  \nstd                  1.279011                     NaN  \nmin                  1.000000                     NaN  \n25%                  1.000000                     NaN  \n50%                  1.000000                     NaN  \n75%                  2.000000                     NaN  \nmax                  7.000000                     NaN  \n\n[8 rows x 86 columns]",
      "text/html": "<div>\n<style scoped>\n    .dataframe tbody tr th:only-of-type {\n        vertical-align: middle;\n    }\n\n    .dataframe tbody tr th {\n        vertical-align: top;\n    }\n\n    .dataframe thead th {\n        text-align: right;\n    }\n</style>\n<table border=\"1\" class=\"dataframe\">\n  <thead>\n    <tr style=\"text-align: right;\">\n      <th></th>\n      <th>DataProvider</th>\n      <th>OperatorInfo</th>\n      <th>UsageType</th>\n      <th>StatusType</th>\n      <th>SubmissionStatus</th>\n      <th>UserComments</th>\n      <th>PercentageSimilarity</th>\n      <th>MediaItems</th>\n      <th>ID</th>\n      <th>ParentChargePointID</th>\n      <th>...</th>\n      <th>Connections/3/StatusType</th>\n      <th>Connections/3/LevelID</th>\n      <th>Connections/3/Level</th>\n      <th>Connections/3/Amps</th>\n      <th>Connections/3/Voltage</th>\n      <th>Connections/3/PowerKW</th>\n      <th>Connections/3/CurrentTypeID</th>\n      <th>Connections/3/CurrentType</th>\n      <th>Connections/3/Quantity</th>\n      <th>Connections/3/Comments</th>\n    </tr>\n  </thead>\n  <tbody>\n    <tr>\n      <th>count</th>\n      <td>0.0</td>\n      <td>0.0</td>\n      <td>0.0</td>\n      <td>0.0</td>\n      <td>0.0</td>\n      <td>0.0</td>\n      <td>0.0</td>\n      <td>0.0</td>\n      <td>250.000000</td>\n      <td>0.0</td>\n      <td>...</td>\n      <td>0.0</td>\n      <td>24.000000</td>\n      <td>0.0</td>\n      <td>20.0</td>\n      <td>20.0</td>\n      <td>24.000000</td>\n      <td>24.00000</td>\n      <td>0.0</td>\n      <td>24.000000</td>\n      <td>0.0</td>\n    </tr>\n    <tr>\n      <th>mean</th>\n      <td>NaN</td>\n      <td>NaN</td>\n      <td>NaN</td>\n      <td>NaN</td>\n      <td>NaN</td>\n      <td>NaN</td>\n      <td>NaN</td>\n      <td>NaN</td>\n      <td>129228.608000</td>\n      <td>NaN</td>\n      <td>...</td>\n      <td>NaN</td>\n      <td>2.958333</td>\n      <td>NaN</td>\n      <td>63.0</td>\n      <td>400.0</td>\n      <td>54.083333</td>\n      <td>21.25000</td>\n      <td>NaN</td>\n      <td>1.625000</td>\n      <td>NaN</td>\n    </tr>\n    <tr>\n      <th>std</th>\n      <td>NaN</td>\n      <td>NaN</td>\n      <td>NaN</td>\n      <td>NaN</td>\n      <td>NaN</td>\n      <td>NaN</td>\n      <td>NaN</td>\n      <td>NaN</td>\n      <td>26768.974371</td>\n      <td>NaN</td>\n      <td>...</td>\n      <td>NaN</td>\n      <td>0.204124</td>\n      <td>NaN</td>\n      <td>0.0</td>\n      <td>0.0</td>\n      <td>37.284939</td>\n      <td>3.37832</td>\n      <td>NaN</td>\n      <td>1.279011</td>\n      <td>NaN</td>\n    </tr>\n    <tr>\n      <th>min</th>\n      <td>NaN</td>\n      <td>NaN</td>\n      <td>NaN</td>\n      <td>NaN</td>\n      <td>NaN</td>\n      <td>NaN</td>\n      <td>NaN</td>\n      <td>NaN</td>\n      <td>88878.000000</td>\n      <td>NaN</td>\n      <td>...</td>\n      <td>NaN</td>\n      <td>2.000000</td>\n      <td>NaN</td>\n      <td>63.0</td>\n      <td>400.0</td>\n      <td>38.000000</td>\n      <td>20.00000</td>\n      <td>NaN</td>\n      <td>1.000000</td>\n      <td>NaN</td>\n    </tr>\n    <tr>\n      <th>25%</th>\n      <td>NaN</td>\n      <td>NaN</td>\n      <td>NaN</td>\n      <td>NaN</td>\n      <td>NaN</td>\n      <td>NaN</td>\n      <td>NaN</td>\n      <td>NaN</td>\n      <td>104584.250000</td>\n      <td>NaN</td>\n      <td>...</td>\n      <td>NaN</td>\n      <td>3.000000</td>\n      <td>NaN</td>\n      <td>63.0</td>\n      <td>400.0</td>\n      <td>43.000000</td>\n      <td>20.00000</td>\n      <td>NaN</td>\n      <td>1.000000</td>\n      <td>NaN</td>\n    </tr>\n    <tr>\n      <th>50%</th>\n      <td>NaN</td>\n      <td>NaN</td>\n      <td>NaN</td>\n      <td>NaN</td>\n      <td>NaN</td>\n      <td>NaN</td>\n      <td>NaN</td>\n      <td>NaN</td>\n      <td>130752.500000</td>\n      <td>NaN</td>\n      <td>...</td>\n      <td>NaN</td>\n      <td>3.000000</td>\n      <td>NaN</td>\n      <td>63.0</td>\n      <td>400.0</td>\n      <td>43.000000</td>\n      <td>20.00000</td>\n      <td>NaN</td>\n      <td>1.000000</td>\n      <td>NaN</td>\n    </tr>\n    <tr>\n      <th>75%</th>\n      <td>NaN</td>\n      <td>NaN</td>\n      <td>NaN</td>\n      <td>NaN</td>\n      <td>NaN</td>\n      <td>NaN</td>\n      <td>NaN</td>\n      <td>NaN</td>\n      <td>149516.250000</td>\n      <td>NaN</td>\n      <td>...</td>\n      <td>NaN</td>\n      <td>3.000000</td>\n      <td>NaN</td>\n      <td>63.0</td>\n      <td>400.0</td>\n      <td>43.000000</td>\n      <td>20.00000</td>\n      <td>NaN</td>\n      <td>2.000000</td>\n      <td>NaN</td>\n    </tr>\n    <tr>\n      <th>max</th>\n      <td>NaN</td>\n      <td>NaN</td>\n      <td>NaN</td>\n      <td>NaN</td>\n      <td>NaN</td>\n      <td>NaN</td>\n      <td>NaN</td>\n      <td>NaN</td>\n      <td>173970.000000</td>\n      <td>NaN</td>\n      <td>...</td>\n      <td>NaN</td>\n      <td>3.000000</td>\n      <td>NaN</td>\n      <td>63.0</td>\n      <td>400.0</td>\n      <td>175.000000</td>\n      <td>30.00000</td>\n      <td>NaN</td>\n      <td>7.000000</td>\n      <td>NaN</td>\n    </tr>\n  </tbody>\n</table>\n<p>8 rows × 86 columns</p>\n</div>"
     },
     "execution_count": 7,
     "metadata": {},
     "output_type": "execute_result"
    }
   ],
   "source": [
    "laadpaaldata = pd.read_csv('data\\\\convertcsv(1).csv')\n",
    "\n",
    "laadpaaldata.describe(\n",
    ")"
   ],
   "metadata": {
    "collapsed": false,
    "pycharm": {
     "name": "#%%\n"
    }
   }
  }
 ],
 "metadata": {
  "kernelspec": {
   "name": "pycharm-8bb31eb6",
   "language": "python",
   "display_name": "PyCharm (DSM_IDS_Case_3)"
  },
  "language_info": {
   "codemirror_mode": {
    "name": "ipython",
    "version": 3
   },
   "file_extension": ".py",
   "mimetype": "text/x-python",
   "name": "python",
   "nbconvert_exporter": "python",
   "pygments_lexer": "ipython3",
   "version": "3.8.5"
  }
 },
 "nbformat": 4,
 "nbformat_minor": 4
}